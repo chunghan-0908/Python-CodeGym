{
 "cells": [
  {
   "cell_type": "markdown",
   "id": "05948314",
   "metadata": {},
   "source": [
    "# Function"
   ]
  },
  {
   "cell_type": "markdown",
   "id": "3b68247e",
   "metadata": {},
   "source": [
    "## Function(hàm) là gì?"
   ]
  },
  {
   "cell_type": "markdown",
   "id": "cf84a685",
   "metadata": {},
   "source": [
    "Hàm (function) là một khối lệnh đặc biệt, nó được đặt tên, giúp mã chương trình dễ đọc hơn, và có thể gọi để sử dụng ở các nơi khác nhau trong chương trình. Hàm chính là khối lệnh có thể tái sử dụng (reuseable)."
   ]
  },
  {
   "cell_type": "markdown",
   "id": "3636c8b1",
   "metadata": {},
   "source": [
    "### Hàm\n",
    "\n",
    "Cú pháp:\n",
    "\n",
    "`def <tên hàm>(<tham số>):\n",
    "    //Nội dung hàm`\n",
    "\n",
    "Gọi hàm:\n",
    "`<tên hàm>(<giá trị đầu vào>)`"
   ]
  },
  {
   "cell_type": "markdown",
   "id": "18f95aa8",
   "metadata": {},
   "source": [
    "### Ví dụ: Hàm in"
   ]
  },
  {
   "cell_type": "code",
   "execution_count": 1,
   "id": "0753ca43",
   "metadata": {},
   "outputs": [],
   "source": [
    "# Viết 1 hàm để giới thiệu về khóa học \n",
    "def print_course_info():\n",
    "    print(\"******************************\")\n",
    "    print(\"*Course: Python Fundamental  *\")\n",
    "    print(\"*Lesson 13                   *\")\n",
    "    print(\"*Organizationn:CodeGym Online*\")\n",
    "    print(\"******************************\")"
   ]
  },
  {
   "cell_type": "code",
   "execution_count": 3,
   "id": "a0b3db83",
   "metadata": {},
   "outputs": [
    {
     "name": "stdout",
     "output_type": "stream",
     "text": [
      "******************************\n",
      "*Course: Python Fundamental  *\n",
      "*Lesson 13                   *\n",
      "*Organizationn:CodeGym Online*\n",
      "******************************\n"
     ]
    }
   ],
   "source": [
    "print_course_info()"
   ]
  },
  {
   "cell_type": "markdown",
   "id": "29c55e2b",
   "metadata": {},
   "source": [
    "### Ví dụ: Hàm tính giá trị tuyệt đối"
   ]
  },
  {
   "cell_type": "code",
   "execution_count": 8,
   "id": "e492700a",
   "metadata": {},
   "outputs": [
    {
     "name": "stdout",
     "output_type": "stream",
     "text": [
      "Nhập vào một số nguyên bất kì: -4\n",
      "Giá trị tuyệt đối là  4\n"
     ]
    }
   ],
   "source": [
    "#Viết hàm để in ra giá trị tuyệt đối của biến được input từ người dùng\n",
    "def in_tri_tuyet_doi():\n",
    "    n = int(input(\"Nhập vào một số nguyên bất kì: \"))\n",
    "    if n >= 0:\n",
    "        print(\"Giá trị tuyệt đối là: \", n)\n",
    "    else:\n",
    "        print(\"Giá trị tuyệt đối là \", n*(-1))\n",
    "in_tri_tuyet_doi()"
   ]
  },
  {
   "cell_type": "markdown",
   "id": "07fa617d",
   "metadata": {},
   "source": [
    "### Ví dụ: Hàm vẽ hình tròn"
   ]
  },
  {
   "cell_type": "code",
   "execution_count": null,
   "id": "2a2dec85",
   "metadata": {},
   "outputs": [],
   "source": []
  },
  {
   "cell_type": "markdown",
   "id": "c4575e29",
   "metadata": {},
   "source": [
    "## Xây dựng và sử dụng hàm trong python"
   ]
  },
  {
   "cell_type": "markdown",
   "id": "00ac6720",
   "metadata": {},
   "source": [
    "### Hàm say_hello"
   ]
  },
  {
   "cell_type": "code",
   "execution_count": 14,
   "id": "47575691",
   "metadata": {},
   "outputs": [],
   "source": [
    "#Viết hàm in ra nội dung \"Hello, my name is..... I'm studying Python Fundamental\"\n",
    "def print_introduce():\n",
    "    name = input(\"Please input your name: \")\n",
    "    print(f\"Hello, my name is {name} I'm studying Python Fundamental\")"
   ]
  },
  {
   "cell_type": "code",
   "execution_count": 15,
   "id": "3c8b69d3",
   "metadata": {},
   "outputs": [
    {
     "name": "stdout",
     "output_type": "stream",
     "text": [
      "Please input your name: Han\n",
      "Hello, my name is Han I'm studying Python Fundamental\n"
     ]
    }
   ],
   "source": [
    "print_introduce()"
   ]
  },
  {
   "cell_type": "markdown",
   "id": "f9b6f894",
   "metadata": {},
   "source": [
    "### Hàm vẽ cây thông"
   ]
  },
  {
   "cell_type": "code",
   "execution_count": null,
   "id": "0994ceed",
   "metadata": {},
   "outputs": [],
   "source": []
  },
  {
   "attachments": {
    "image.png": {
     "image/png": "[encoded data removed]"
    }
   },
   "cell_type": "markdown",
   "id": "08fa2b6b",
   "metadata": {},
   "source": [
    "### Thực hành: Viết hàm vẽ ra hình ảnh như dưới đây:\n",
    "![image.png](attachment:image.png)"
   ]
  },
  {
   "cell_type": "code",
   "execution_count": null,
   "id": "b3161e2c",
   "metadata": {},
   "outputs": [],
   "source": []
  },
  {
   "cell_type": "markdown",
   "id": "77fa1ef1",
   "metadata": {},
   "source": [
    "## doc_string cho hàm"
   ]
  },
  {
   "cell_type": "code",
   "execution_count": 19,
   "id": "8dcf448b",
   "metadata": {},
   "outputs": [
    {
     "name": "stdout",
     "output_type": "stream",
     "text": [
      "\n",
      "    This function is used to calculate perimater of ractangle\n",
      "    Input: Length, Width\n",
      "    Ouput: perimeter (float)\n",
      "    \n"
     ]
    }
   ],
   "source": [
    "# Hàm tính chu vi hình chữ nhật\n",
    "def calc_perimater_rectangle():\n",
    "    '''\n",
    "    This function is used to calculate perimater of ractangle\n",
    "    Input: Length, Width\n",
    "    Ouput: perimeter (float)\n",
    "    '''\n",
    "    pass\n",
    "\n",
    "print(calc_perimater_rectangle.__doc__)"
   ]
  },
  {
   "cell_type": "code",
   "execution_count": 23,
   "id": "a7dc57e9",
   "metadata": {},
   "outputs": [
    {
     "name": "stdout",
     "output_type": "stream",
     "text": [
      "Please, input your Math score: 9\n",
      "Please, input your Literature score: 9\n",
      "Please, input your English score: 9\n",
      "9.0\n"
     ]
    }
   ],
   "source": [
    "#Hàm xếp loại học sinh\n",
    "#Tính điểm tb 3 môn học toán, văn, anh\n",
    "#Cho biết học lực giỏi/ khá/ trung bình \n",
    "\n",
    "def calc_avg():\n",
    "    '''\n",
    "    This Function is used to calculate 3 points for math, literature, english\n",
    "    Indicate excellent, good, and average academic performance\n",
    "    Input: math score, literatutre score, english score \n",
    "    Output: Student Rating\n",
    "    '''\n",
    "    pass \n",
    "\n",
    "    math = int(input(\"Please, input your Math score: \"))\n",
    "    literature = int(input(\"Please, input your Literature score: \"))\n",
    "    english = int(input(\"Please, input your English score: \"))\n",
    "    \n",
    "    average = (math + literature + english)/3\n",
    "    print(average)\n",
    "    \n",
    "calc_avg()"
   ]
  },
  {
   "cell_type": "markdown",
   "id": "0c5f3f35",
   "metadata": {},
   "source": [
    "## Phạm vi biến"
   ]
  },
  {
   "cell_type": "code",
   "execution_count": 6,
   "id": "b332222c",
   "metadata": {},
   "outputs": [],
   "source": [
    "# Hàm tính tổng các số từ 1 đến 10\n",
    "\n",
    "n = 10\n",
    "\n",
    "def calc_sum():\n",
    "    "
   ]
  },
  {
   "attachments": {
    "image.png": {
     "image/png": "[encoded data removed]"
    }
   },
   "cell_type": "markdown",
   "id": "b7e59b48",
   "metadata": {},
   "source": [
    "![image.png](attachment:image.png)"
   ]
  },
  {
   "cell_type": "markdown",
   "id": "7407e8fe",
   "metadata": {},
   "source": [
    "## Đối số của hàm"
   ]
  },
  {
   "cell_type": "code",
   "execution_count": 27,
   "id": "f5787950",
   "metadata": {},
   "outputs": [
    {
     "name": "stdout",
     "output_type": "stream",
     "text": [
      "Cude volume is:  125\n",
      "Cude volume is:  1000\n",
      "Cude volume is:  3375\n"
     ]
    }
   ],
   "source": [
    "# Hàm tính thể tích hình lập phương\n",
    "\n",
    "\n",
    "#side (parameter): -> biến số\n",
    "#giá trị được truyền vào: -> đối số\n",
    "def calc_cube_volume(side):\n",
    "    print(f\"Cude volume is:  {side ** 3}\")\n",
    "    \n",
    "calc_cube_volume(5)\n",
    "calc_cube_volume(10)\n",
    "calc_cube_volume(15)"
   ]
  },
  {
   "cell_type": "code",
   "execution_count": 7,
   "id": "8d1bc23b",
   "metadata": {},
   "outputs": [],
   "source": [
    "# Hàm xếp loại học sinh"
   ]
  },
  {
   "cell_type": "markdown",
   "id": "1eee19a7",
   "metadata": {},
   "source": [
    "### Thực hành: Viết hàm nhận vào một số nguyên và kiểm tra xem số đó có phải là số nguyên tố hay không.\n"
   ]
  },
  {
   "cell_type": "code",
   "execution_count": null,
   "id": "d3c5d3a9",
   "metadata": {},
   "outputs": [],
   "source": []
  },
  {
   "cell_type": "markdown",
   "id": "dea3b237",
   "metadata": {},
   "source": [
    "## Đối số có giá trị mặc định"
   ]
  },
  {
   "cell_type": "code",
   "execution_count": null,
   "id": "8e871a22",
   "metadata": {},
   "outputs": [],
   "source": []
  },
  {
   "cell_type": "code",
   "execution_count": null,
   "id": "bb44715a",
   "metadata": {},
   "outputs": [],
   "source": []
  },
  {
   "cell_type": "markdown",
   "id": "4cb69485",
   "metadata": {},
   "source": [
    "## Giá trị trả về của hàm"
   ]
  },
  {
   "cell_type": "markdown",
   "id": "e4fac396",
   "metadata": {},
   "source": [
    "\n",
    "# return\n",
    "\n",
    "Cú pháp:\n",
    "\n",
    "`return <giá trị trả về>`\n",
    "\n",
    "##### Lưu ý: Sau khi thực hiện lệnh return, chương trình sẽ thoát khỏi hàm ngay lập tức (những lệnh sau đó không được thực hiện)\n",
    "\n",
    "Ví dụ:\n",
    "\n",
    "Hãy viết 1 hàm trả về giá trị trung bình của 2 số bất kỳ"
   ]
  },
  {
   "cell_type": "code",
   "execution_count": null,
   "id": "028b09bc",
   "metadata": {},
   "outputs": [],
   "source": []
  },
  {
   "cell_type": "code",
   "execution_count": null,
   "id": "24592238",
   "metadata": {},
   "outputs": [],
   "source": [
    "# Hàm tính chiều dài của chuỗi"
   ]
  },
  {
   "cell_type": "code",
   "execution_count": null,
   "id": "56d947d8",
   "metadata": {},
   "outputs": [],
   "source": [
    "# Hàm tính lũy thừa"
   ]
  },
  {
   "cell_type": "code",
   "execution_count": null,
   "id": "0178d43e",
   "metadata": {},
   "outputs": [],
   "source": [
    "# Hàm kiểm tra năm nhuận"
   ]
  }
 ],
 "metadata": {
  "kernelspec": {
   "display_name": "Python 3 (ipykernel)",
   "language": "python",
   "name": "python3"
  },
  "language_info": {
   "codemirror_mode": {
    "name": "ipython",
    "version": 3
   },
   "file_extension": ".py",
   "mimetype": "text/x-python",
   "name": "python",
   "nbconvert_exporter": "python",
   "pygments_lexer": "ipython3",
   "version": "3.11.3"
  }
 },
 "nbformat": 4,
 "nbformat_minor": 5
}
