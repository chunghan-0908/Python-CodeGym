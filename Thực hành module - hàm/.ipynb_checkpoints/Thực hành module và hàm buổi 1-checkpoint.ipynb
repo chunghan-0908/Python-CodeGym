{
 "cells": [
  {
   "cell_type": "markdown",
   "id": "a2a38651",
   "metadata": {},
   "source": [
    "## Bài 1:\n",
    "Viết hàm my_info() nhận vào 2 tham số `name` và `course`, sau đó in ra thông tin tương ứng. Ví dụ: \n",
    "```\n",
    "my_info('Long', 'Python')\n",
    "\n",
    "Output: \n",
    "My name is Long.\n",
    "I'm studying Python.\n",
    "```"
   ]
  },
  {
   "cell_type": "code",
   "execution_count": 2,
   "id": "392f869d",
   "metadata": {},
   "outputs": [
    {
     "name": "stdout",
     "output_type": "stream",
     "text": [
      "My name is Long\n",
      "I'm studying Python\n"
     ]
    }
   ],
   "source": [
    "def my_info(name, course):\n",
    "    # code below this line\n",
    "    print(\"My name is\", name)\n",
    "    print(\"I'm studying\", course)\n",
    "    pass\n",
    "    # code above this line\n",
    "    \n",
    "my_info('Long', 'Python')"
   ]
  },
  {
   "cell_type": "markdown",
   "id": "7390cb06",
   "metadata": {},
   "source": [
    "## Bài 2:\n",
    "Viết hàm sum_even() nhận vào một số `n` và in ra tổng các số chẵn từ 2 đến n.\n",
    "Ví dụ:\n",
    "```\n",
    "sum_even(10)\n",
    "\n",
    "Output:\n",
    "30\n",
    "```"
   ]
  },
  {
   "cell_type": "code",
   "execution_count": 14,
   "id": "df52dd4b",
   "metadata": {},
   "outputs": [
    {
     "name": "stdout",
     "output_type": "stream",
     "text": [
      "30\n"
     ]
    }
   ],
   "source": [
    "def sum_even(n):\n",
    "    tong = 0\n",
    "    # code below this line\n",
    "    for i in range(n+1):\n",
    "        if i % 2 == 0:\n",
    "            tong += i\n",
    "    print(tong)\n",
    "    pass\n",
    "    # code above this line\n",
    "\n",
    "sum_even(10)"
   ]
  },
  {
   "cell_type": "markdown",
   "id": "0f69e7f2",
   "metadata": {},
   "source": [
    "## Bài 3:\n",
    "Viết hàm easy_math() nhận vào 3 tham số `num1`, `op`, `num 2` để thực hiện phép tính tương ứng và in ra kết quả. \n",
    "Ví dụ:\n",
    "```\n",
    "easy_math(5, '+', 5)\n",
    "\n",
    "Output:\n",
    "10\n",
    "```\n"
   ]
  },
  {
   "cell_type": "code",
   "execution_count": 4,
   "id": "3b7ada61",
   "metadata": {},
   "outputs": [
    {
     "name": "stdout",
     "output_type": "stream",
     "text": [
      "10\n",
      "parameter b is not corrected\n"
     ]
    }
   ],
   "source": [
    "#Anh Văn\n",
    "def easy_math(a, b, c):\n",
    "    # code below this line\n",
    "    if b == '+':\n",
    "        print(a + c)\n",
    "    else:\n",
    "        print(f\"parameter b is not corrected\")\n",
    "    # code above this line\n",
    "\n",
    "easy_math(5, '+', 5)\n",
    "easy_math(5, '-', 5)"
   ]
  },
  {
   "cell_type": "code",
   "execution_count": 24,
   "id": "ce6058ca",
   "metadata": {},
   "outputs": [
    {
     "name": "stdout",
     "output_type": "stream",
     "text": [
      "10\n"
     ]
    }
   ],
   "source": [
    "def easy_math(num1, op, num2):\n",
    "    # code below this line\n",
    "    if op == \"+\":\n",
    "        calc = num1 + num2\n",
    "        print(calc)\n",
    "    elif op == \"-\":\n",
    "        calc = num1 - num2\n",
    "        print(calc)\n",
    "    elif op == \"*\":\n",
    "        calc = num1 * num2\n",
    "        print(calc)\n",
    "    elif op == \"/\":\n",
    "        calc = num1 / num2\n",
    "        print(calc) \n",
    "    else:\n",
    "        print(\"Hãy nhập lại!\")\n",
    "    pass\n",
    "    # code above this line\n",
    "\n",
    "easy_math(5, '+', 5)"
   ]
  },
  {
   "attachments": {
    "image.png": {
     "image/png": "[encoded data removed]"
    }
   },
   "cell_type": "markdown",
   "id": "3d1cc2ef",
   "metadata": {},
   "source": [
    "![image.png](attachment:image.png)"
   ]
  },
  {
   "cell_type": "markdown",
   "id": "3239a01d",
   "metadata": {},
   "source": [
    "## Bài 4:\n",
    "Viết hàm check_even() nhận vào tham số `number` và kiểm tra xem `number` có phải là số chẵn hay không.\n",
    "Ví dụ:\n",
    "```\n",
    "check_even(5)\n",
    "\n",
    "Output:\n",
    "5 là số lẻ\n",
    "```"
   ]
  },
  {
   "cell_type": "code",
   "execution_count": 5,
   "id": "da383d8d",
   "metadata": {},
   "outputs": [
    {
     "name": "stdout",
     "output_type": "stream",
     "text": [
      "5 là số lẻ\n",
      "6 là số chẵn\n"
     ]
    }
   ],
   "source": [
    "#Anh Văn\n",
    "def check_even(a):\n",
    "    # code below this line\n",
    "    if a % 2 == 0:\n",
    "        print(f\"{a} là số chẵn\")\n",
    "    else:\n",
    "        print(f\"{a} là số lẻ\")\n",
    "    # code above this line\n",
    "\n",
    "check_even(5)\n",
    "check_even(6)"
   ]
  },
  {
   "cell_type": "code",
   "execution_count": 25,
   "id": "f6a0918a",
   "metadata": {},
   "outputs": [
    {
     "name": "stdout",
     "output_type": "stream",
     "text": [
      "5 là số lẻ\n"
     ]
    }
   ],
   "source": [
    "def check_even(number):\n",
    "    # code below this line\n",
    "    if number % 2 == 0:\n",
    "        print(f\"{number} là số chẳn\")\n",
    "    else:\n",
    "        print(f\"{number} là số lẻ\")\n",
    "    pass\n",
    "    # code above this line\n",
    "\n",
    "check_even(5)"
   ]
  },
  {
   "cell_type": "markdown",
   "id": "27a4bd3b",
   "metadata": {},
   "source": [
    "## Bài 5:\n",
    "Viết hàm transform_str() nhận vào tham số `string` và in ra `string` ở dạng uppercase và lowercase. Ví dụ:\n",
    "```\n",
    "transform_str('Function Is Magic!')\n",
    "\n",
    "Output:\n",
    "Lowercase: function is magic!\n",
    "Uppercase: FUNCTION IS MAGIC!\n",
    "```"
   ]
  },
  {
   "cell_type": "code",
   "execution_count": 17,
   "id": "ae2891a8",
   "metadata": {},
   "outputs": [
    {
     "name": "stdout",
     "output_type": "stream",
     "text": [
      "Lowercse function is magic!\n",
      "Uppercase FUNCTION IS MAGIC!\n"
     ]
    }
   ],
   "source": [
    "def transform_str(string):\n",
    "    # code below this line\n",
    "    print(\"Lowercse\", string.lower())\n",
    "    print(\"Uppercase\", string.upper())\n",
    "    pass\n",
    "    # code above this line\n",
    "\n",
    "transform_str('Function Is Magic!')"
   ]
  },
  {
   "cell_type": "markdown",
   "id": "163331db",
   "metadata": {},
   "source": [
    "## Bài 6:\n",
    "Viết hàm calculate_factorial() nhận vào tham số `number` và in ra giai thừa của tham số đó. Ví dụ:\n",
    "```\n",
    "calculate_factorial(5)\n",
    "\n",
    "Output: 120\n",
    "```"
   ]
  },
  {
   "cell_type": "code",
   "execution_count": 21,
   "id": "0047ec9d",
   "metadata": {},
   "outputs": [
    {
     "name": "stdout",
     "output_type": "stream",
     "text": [
      "120\n"
     ]
    }
   ],
   "source": [
    "def calculate_factorial(number):\n",
    "    # code below this line\n",
    "    factorial = 1\n",
    "    for i in range (1, number +1):\n",
    "        factorial *= i\n",
    "    print(factorial)\n",
    "    pass\n",
    "    # code above this line\n",
    "\n",
    "calculate_factorial(5)"
   ]
  },
  {
   "cell_type": "markdown",
   "id": "6d381154",
   "metadata": {},
   "source": [
    "## Bài 7:\n",
    "Dãy Fibonacci là dãy vô hạn các số tự nhiên bắt đầu bằng 1 và 1, sau đó các số tiếp theo sẽ bằng tổng của 2 số liền trước nó. \n",
    "\n",
    "Cụ thể, các số đầu tiên của dãy Fibonacci là 1, 1, 2, 3, 5, 8, 13, 21, 34, 55, 89, 144, 233, 377, 610... \n",
    "\n",
    "Nhiệm vụ: Viết chương trình find_fibo() nhận vào tham số `index` và in ra số Fibonacci ở vị trí `index`. Nếu `index` bằng 0 thì in ra 0. Ví dụ:\n",
    "\n",
    "```\n",
    "find_fibo(1)\n",
    "\n",
    "Output:\n",
    "1\n",
    "```\n",
    "-------------------\n",
    "```\n",
    "find_fibo(6)\n",
    "\n",
    "Output:\n",
    "8\n",
    "```\n",
    "-------------------\n",
    "```\n",
    "find_fibo(0)\n",
    "\n",
    "Output:\n",
    "0\n",
    "```"
   ]
  },
  {
   "cell_type": "code",
   "execution_count": 2,
   "id": "0b8b2dc3",
   "metadata": {},
   "outputs": [
    {
     "name": "stdout",
     "output_type": "stream",
     "text": [
      "0\n"
     ]
    }
   ],
   "source": [
    "def find_fibo(index):\n",
    "    # code below this line\n",
    "    if index == 0:\n",
    "        print(0)\n",
    "    else:\n",
    "        fibo_seq = [0, 1]\n",
    "        while len(fibo_seq) <= index:\n",
    "            next_num = fibo_seq[-1] + fibo_seq[-2]\n",
    "            fibo_seq.append(next_num)\n",
    "        print(fibo_seq[index])\n",
    "\n",
    "    pass\n",
    "    # code above this line\n",
    "\n",
    "find_fibo(0)\n",
    "    # code above this line\n",
    "\n",
    "find_fibo(0)"
   ]
  },
  {
   "cell_type": "markdown",
   "id": "65db4551",
   "metadata": {},
   "source": [
    "## Bài 8:\n",
    "Viết hàm find_divisors() nhận vào một số nguyên dương `number` và in ra tất cả các ước của `number`. Ví dụ:\n",
    "```\n",
    "find_divisors(24)\n",
    "\n",
    "Output:\n",
    "Ước của 24 là: 1, 2, 3, 4, 6, 8, 12, 24\n",
    "```"
   ]
  },
  {
   "cell_type": "code",
   "execution_count": 2,
   "id": "8c2d0064",
   "metadata": {},
   "outputs": [
    {
     "name": "stdout",
     "output_type": "stream",
     "text": [
      "ước của 30 là: \n",
      "1, 2, 3, 5, 6, 10, 15, 30\n"
     ]
    }
   ],
   "source": [
    "#Anh Văn\n",
    "def find_divisors(n):\n",
    "    # code below this line\n",
    "    if n <= 0 :\n",
    "        print(\"không phải số nguyên dương\")\n",
    "    else:\n",
    "        print(f\"ước của {n} là: \")\n",
    "        for i in range(1, n): #Fix n + 1 thành n\n",
    "            if n % i == 0:\n",
    "                print(i, end=\", \")\n",
    "        print(n) #Bỏ dấu \",\" cuối cùng\n",
    "    # code above this line\n",
    "\n",
    "find_divisors(30)"
   ]
  },
  {
   "cell_type": "code",
   "execution_count": 39,
   "id": "d9b20c10",
   "metadata": {},
   "outputs": [
    {
     "name": "stdout",
     "output_type": "stream",
     "text": [
      "Ước của 24 là:  [1, 2, 3, 4, 6, 8, 12, 24]\n"
     ]
    }
   ],
   "source": [
    "def find_divisors(number):\n",
    "    divisons = []\n",
    "    # code below this line\n",
    "    for i in range(1, number + 1):\n",
    "        if number % i == 0:\n",
    "            divisons.append(i)\n",
    "    print(f\"Ước của {number} là: \", divisons)\n",
    "    pass\n",
    "    # code above this line\n",
    "\n",
    "find_divisors(24)"
   ]
  },
  {
   "cell_type": "markdown",
   "id": "37000ab2",
   "metadata": {},
   "source": [
    "## Bài 9:\n",
    "Viết hàm solve_equation() để giải phương trình bậc nhất ax + b = 0 với `a` và `b` là 2 tham số đầu vào. Ví dụ:\n",
    "```\n",
    "solve_equation(2, -4)\n",
    "\n",
    "Output: \n",
    "x = 2\n",
    "```\n",
    "---\n",
    "```\n",
    "solve_equation(0, 0)\n",
    "\n",
    "Output: \n",
    "Phương trình vô số nghiệm\n",
    "```\n",
    "---\n",
    "```\n",
    "solve_equation(0, -4)\n",
    "\n",
    "Output: \n",
    "Phương trình vô nghiệm\n",
    "```"
   ]
  },
  {
   "cell_type": "code",
   "execution_count": 11,
   "id": "abfc5589",
   "metadata": {},
   "outputs": [
    {
     "name": "stdout",
     "output_type": "stream",
     "text": [
      "x = 2.0\n",
      "Phương trình vô số nghiệm\n",
      "Phương trình vô nghiệm\n"
     ]
    }
   ],
   "source": [
    "def solve_equation(a,b):\n",
    "    # code below this line\n",
    "    if a == 0 and b == 0:\n",
    "        print(\"Phương trình vô số nghiệm\")\n",
    "    elif a == 0:\n",
    "        print(\"Phương trình vô nghiệm\")\n",
    "    else: \n",
    "        kq = -b/2\n",
    "        print(\"x =\",kq)\n",
    "    pass\n",
    "    # code above this line\n",
    "\n",
    "solve_equation(2, -4)\n",
    "solve_equation(0, 0)\n",
    "solve_equation(0, 4)"
   ]
  },
  {
   "cell_type": "markdown",
   "id": "a483ed69",
   "metadata": {},
   "source": [
    "## Bài 10:\n",
    "Viết hàm find_distance() nhận vào 4 tham số `x1`, `y1`, `x2`, `y2` là tọa độ của 2 điểm trên trục tọa độ và in ra khoảng cách của 2 điểm đó theo công thức:\n",
    "```\n",
    "distance = sqrt((x1-x2)^2 + (y1-y2)^2)\n",
    "```\n",
    "Tham khảo: https://toanthaydinh.com/cong-thuc-tinh-khoang-cach-giua-2-diem/\n",
    "Khoảng cách được làm tròn 2 chữ số thập phân.\n",
    "\n",
    "Ví dụ:\n",
    "```\n",
    "find_distance(5, 2, 1, 3)\n",
    "\n",
    "Output:\n",
    "4.12\n",
    "```"
   ]
  },
  {
   "cell_type": "code",
   "execution_count": 59,
   "id": "2dcf614e",
   "metadata": {},
   "outputs": [
    {
     "name": "stdout",
     "output_type": "stream",
     "text": [
      "4.12\n"
     ]
    }
   ],
   "source": [
    "import math\n",
    "def find_distance(x1, y1, x2, y2):\n",
    "    # code below this line\n",
    "    distance = round(math.sqrt((x1 - x2)**2 + (y1 - y2)**2),2)\n",
    "    print(distance)\n",
    "    pass\n",
    "    # code above this line\n",
    "\n",
    "find_distance(5, 2, 1, 3)"
   ]
  },
  {
   "cell_type": "markdown",
   "id": "6236743e",
   "metadata": {},
   "source": [
    "## Bài 11(bonus):\n",
    "Viết hàm test_password() nhận vào một chuỗi(xem như là mật khẩu của người dùng).\n",
    "Sau đó kiểm tra xem đây có phải là mật khẩu mạnh hay không theo quy tắc sau:\n",
    "- Mật khẩu mạnh là mật khẩu phải có ít nhất 1 chữ hoa, 1 chữ thường, 1 số và 1 ký tự đặc biệt"
   ]
  },
  {
   "cell_type": "code",
   "execution_count": null,
   "id": "b24922e7",
   "metadata": {},
   "outputs": [],
   "source": [
    "def test_password(string):\n",
    "    # code below this line\n",
    "    pass\n",
    "    # code above this line\n",
    "\n",
    "test_password(\"aW12R@_bc\")"
   ]
  }
 ],
 "metadata": {
  "kernelspec": {
   "display_name": "Python 3 (ipykernel)",
   "language": "python",
   "name": "python3"
  },
  "language_info": {
   "codemirror_mode": {
    "name": "ipython",
    "version": 3
   },
   "file_extension": ".py",
   "mimetype": "text/x-python",
   "name": "python",
   "nbconvert_exporter": "python",
   "pygments_lexer": "ipython3",
   "version": "3.11.3"
  }
 },
 "nbformat": 4,
 "nbformat_minor": 5
}
