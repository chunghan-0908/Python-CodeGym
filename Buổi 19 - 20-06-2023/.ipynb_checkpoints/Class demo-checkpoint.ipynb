{
 "cells": [
  {
   "cell_type": "markdown",
   "id": "a4673731",
   "metadata": {},
   "source": [
    "Câu hỏi:\n",
    "\n",
    "Định nghĩa một class có ít nhất 2 method:\n",
    "\n",
    "getString: để nhận một chuỗi do người dùng nhập vào từ giao diện điều khiển.\n",
    "printString: in chuỗi vừa nhập sang chữ hoa.\n",
    "Thêm vào các hàm kiểm tra đơn giản để kiểm tra method của class.\n",
    "\n",
    "Ví dụ: Chuỗi nhập vào là quantrimang.com thì đầu ra phải là: QUANTRIMANG.COM"
   ]
  },
  {
   "cell_type": "code",
   "execution_count": 4,
   "id": "51fdbb72",
   "metadata": {},
   "outputs": [],
   "source": [
    "class Stringclass:\n",
    "    '''class đỗi từ viết thường sang viết Hoa'''\n",
    "    \n",
    "    def __init__(self):\n",
    "        self.a = \"\"\n",
    "    \n",
    "    def getString(self):\n",
    "        self.a = str(input(\"please input a string: \"))\n",
    "    \n",
    "    def printString(self):\n",
    "        print(f\"output uppcase is: {self.a.upper()}\")\n",
    "        "
   ]
  },
  {
   "cell_type": "code",
   "execution_count": 5,
   "id": "b28dfaa5",
   "metadata": {
    "scrolled": false
   },
   "outputs": [
    {
     "name": "stdout",
     "output_type": "stream",
     "text": [
      "please input a string: ngoc han\n",
      "output uppcase is: NGOC HAN\n"
     ]
    }
   ],
   "source": [
    "ten = Stringclass()\n",
    "ten.getString()\n",
    "ten.printString()"
   ]
  },
  {
   "cell_type": "code",
   "execution_count": 41,
   "id": "595b1df9",
   "metadata": {},
   "outputs": [],
   "source": [
    "class oto:\n",
    "    '''class ô tô'''\n",
    "    \n",
    "    def __init__(self, brand, segment, engine, price, seat):\n",
    "        '''hàm mặc định, định nghĩa tham số'''\n",
    "        self.brand = brand\n",
    "        self.segment = segment\n",
    "        self.engine = engine\n",
    "        self.price = price\n",
    "        self.seat = seat\n",
    "    \n",
    "    def oto_ab(self):\n",
    "        print(\"hãng\", self.brand)\n",
    "        print(\"phân khúc\", self.segment)\n",
    "        print(\"máy\", self.engine)\n",
    "    \n",
    "    def oto_ac(self):\n",
    "        print(\"giá\", \"$\", self.price)\n",
    "        print(\"số ghế\", self.seat)"
   ]
  },
  {
   "cell_type": "code",
   "execution_count": 39,
   "id": "ba13f02a",
   "metadata": {
    "scrolled": true
   },
   "outputs": [
    {
     "name": "stdout",
     "output_type": "stream",
     "text": [
      "hãng toyota\n",
      "phân khúc CUV C\n",
      "máy turbo 2.0\n",
      "giá $ 20000\n",
      "số ghế 7 seats\n",
      "class ô tô\n"
     ]
    }
   ],
   "source": [
    "toyota = oto(\"toyota\", \"CUV C\", \"turbo 2.0\", \"20000\", \"7 seats\")\n",
    "toyota.oto_ab()\n",
    "toyota.oto_ac()\n",
    "print(oto.__doc__)"
   ]
  },
  {
   "cell_type": "code",
   "execution_count": 43,
   "id": "09af50f9",
   "metadata": {
    "scrolled": true
   },
   "outputs": [
    {
     "name": "stdout",
     "output_type": "stream",
     "text": [
      "hãng Mercedez\n",
      "phân khúc sedan D\n",
      "máy turbo 3.0\n",
      "giá $ 200000\n",
      "số ghế 5 seats\n"
     ]
    }
   ],
   "source": [
    "Mercedez = oto(\"Mercedez\", \"sedan D\", \"turbo 3.0\", \"200000\", \"5 seats\")\n",
    "Mercedez.oto_ab()\n",
    "Mercedez.oto_ac()"
   ]
  },
  {
   "cell_type": "code",
   "execution_count": 59,
   "id": "06e9fb41",
   "metadata": {},
   "outputs": [],
   "source": [
    "class triangle:\n",
    "    '''class triangle'''\n",
    "    \n",
    "    def __init__(self, a, b, c):\n",
    "        '''hàm mặc định, định nghĩa tham số'''\n",
    "        self.a = a\n",
    "        self.b = b\n",
    "        self.c = c\n",
    "    \n",
    "    def verify(self):\n",
    "        if self.a + self.b > self.c and self.a + self.c > self.b and self.b + self.c > self.a:\n",
    "            return True\n",
    "        else:\n",
    "            return False\n",
    "    \n",
    "    def perimeter_area(self):\n",
    "        if triangle.verify(self) == True:\n",
    "            p = self.a + self.b + self.c\n",
    "            print(f\"peri is: {p}\")\n",
    "            print(f\"area is:{((p/2)*(p/2-self.a)*(p/2-self.b)*(p/2-self.c))**0.5}\")\n",
    "        else:\n",
    "            return None"
   ]
  },
  {
   "cell_type": "code",
   "execution_count": 64,
   "id": "2499309b",
   "metadata": {},
   "outputs": [],
   "source": [
    "triangle1 = triangle(3, 0, 5)\n",
    "triangle1.verify()\n",
    "triangle1.perimeter_area()"
   ]
  },
  {
   "cell_type": "code",
   "execution_count": 2,
   "id": "a126f3eb",
   "metadata": {},
   "outputs": [],
   "source": [
    "import turtle \n",
    "import math\n",
    "class circle:\n",
    "    '''lớp hình tròn'''\n",
    "    def __init__(self, a, b, c):\n",
    "        '''định nghĩa thông số, bán kính a, tọa độ b,c'''\n",
    "        self.a = a\n",
    "        self.b = b\n",
    "        self.c = c\n",
    "    def draw(self):\n",
    "        '''vẽ hình tròn'''\n",
    "        t = turtle.Turtle()\n",
    "        t.hideturtle()\n",
    "        t.penup()\n",
    "        t.goto(self.b, self.c)\n",
    "        t.pendown()\n",
    "        t.circle(self.a)\n",
    "        turtle.done()\n",
    "    def peri_area(self):\n",
    "        '''chu vi, diện tích'''\n",
    "        print(f\" chu vi là: {math.pi * self.a * 2}\")\n",
    "        print(f\" diện tích là: {math.pi * (self.a ** 2)}\")\n",
    "        "
   ]
  },
  {
   "cell_type": "code",
   "execution_count": 3,
   "id": "cf1beb74",
   "metadata": {},
   "outputs": [
    {
     "name": "stdout",
     "output_type": "stream",
     "text": [
      " chu vi là: 125.66370614359172\n",
      " diện tích là: 1256.6370614359173\n"
     ]
    }
   ],
   "source": [
    "circle1 = circle(20, 0, 10)\n",
    "circle1.draw()\n",
    "circle1.peri_area()"
   ]
  }
 ],
 "metadata": {
  "kernelspec": {
   "display_name": "Python 3 (ipykernel)",
   "language": "python",
   "name": "python3"
  },
  "language_info": {
   "codemirror_mode": {
    "name": "ipython",
    "version": 3
   },
   "file_extension": ".py",
   "mimetype": "text/x-python",
   "name": "python",
   "nbconvert_exporter": "python",
   "pygments_lexer": "ipython3",
   "version": "3.11.3"
  }
 },
 "nbformat": 4,
 "nbformat_minor": 5
}
